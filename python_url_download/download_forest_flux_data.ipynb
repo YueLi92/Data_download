{
 "cells": [
  {
   "cell_type": "code",
   "execution_count": 1,
   "metadata": {},
   "outputs": [],
   "source": [
    "import numpy as np\n",
    "import csv\n",
    "import requests"
   ]
  },
  {
   "cell_type": "code",
   "execution_count": 2,
   "metadata": {},
   "outputs": [],
   "source": [
    "fid = []\n",
    "url = []\n",
    "with open('att_data.csv') as csvDataFile:\n",
    "    csvReader = csv.reader(csvDataFile)\n",
    "    for row in csvReader:\n",
    "        # print(row)\n",
    "        fid.append(row[0])\n",
    "        url.append(row[2])\n",
    "        \n",
    "#print(fid)\n",
    "#print(url)\n",
    "#print(fid[1:])\n",
    "        "
   ]
  },
  {
   "cell_type": "code",
   "execution_count": null,
   "metadata": {},
   "outputs": [],
   "source": [
    "for ui in url[1:]:\n",
    "    #print(ui[123:131])\n",
    "    print(ui)\n",
    "    fname = ui[123:131]\n",
    "    r = requests.get(ui, allow_redirects=True)\n",
    "    open(fname+'.tif', 'wb').write(r.content)\n",
    "    #print(r.headers.get('content-type'))"
   ]
  }
 ],
 "metadata": {
  "kernelspec": {
   "display_name": "Python 3",
   "language": "python",
   "name": "python3"
  },
  "language_info": {
   "codemirror_mode": {
    "name": "ipython",
    "version": 3
   },
   "file_extension": ".py",
   "mimetype": "text/x-python",
   "name": "python",
   "nbconvert_exporter": "python",
   "pygments_lexer": "ipython3",
   "version": "3.8.5"
  }
 },
 "nbformat": 4,
 "nbformat_minor": 4
}
